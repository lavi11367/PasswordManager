{
  "cells": [
    {
      "cell_type": "markdown",
      "metadata": {
        "id": "cWi7frnvTKFP"
      },
      "source": [
        "# PasswordCrackTimePrediction:"
      ]
    },
    {
      "cell_type": "markdown",
      "metadata": {
        "id": "T3Pcu0g3TSI4"
      },
      "source": [
        "## 1- Import Libraries:"
      ]
    },
    {
      "cell_type": "code",
      "execution_count": 3,
      "metadata": {
        "id": "7KNsq3HjTJ2D"
      },
      "outputs": [],
      "source": [
        "import math\n",
        "import joblib\n",
        "import numpy as np\n",
        "import pandas as pd\n",
        "import seaborn as sns\n",
        "import matplotlib.pyplot as plt\n",
        "from sklearn.ensemble import RandomForestRegressor\n",
        "from sklearn.metrics import mean_squared_error, r2_score\n",
        "from sklearn.model_selection import train_test_split\n"
      ]
    },
    {
      "cell_type": "markdown",
      "metadata": {
        "id": "BdJJuvOlT06r"
      },
      "source": [
        "## 2- Read Dataset & Viewing"
      ]
    },
    {
      "cell_type": "code",
      "execution_count": 4,
      "metadata": {
        "id": "ljsGvzoWTfjW"
      },
      "outputs": [],
      "source": [
        "\n",
        "path = './Tranining_and_Building_Models'\n",
        "df = pd.read_csv(f\"{path}/dataset/dataset.csv\")"
      ]
    },
    {
      "cell_type": "code",
      "execution_count": 5,
      "metadata": {
        "colab": {
          "base_uri": "https://localhost:8080/"
        },
        "id": "fkxV5CqgTfgO",
        "outputId": "e34c48b8-b596-404c-e422-8887597bf578"
      },
      "outputs": [
        {
          "name": "stdout",
          "output_type": "stream",
          "text": [
            "<class 'pandas.core.frame.DataFrame'>\n",
            "RangeIndex: 100000 entries, 0 to 99999\n",
            "Data columns (total 7 columns):\n",
            " #   Column          Non-Null Count   Dtype  \n",
            "---  ------          --------------   -----  \n",
            " 0   password        100000 non-null  object \n",
            " 1   strength        100000 non-null  float64\n",
            " 2   length          100000 non-null  int64  \n",
            " 3   class_strength  100000 non-null  object \n",
            " 4   entropy         100000 non-null  float64\n",
            " 5   crack_time_sec  100000 non-null  float64\n",
            " 6   crack_time      100000 non-null  object \n",
            "dtypes: float64(3), int64(1), object(3)\n",
            "memory usage: 5.3+ MB\n"
          ]
        }
      ],
      "source": [
        "df.info()"
      ]
    },
    {
      "cell_type": "code",
      "execution_count": 6,
      "metadata": {
        "colab": {
          "base_uri": "https://localhost:8080/",
          "height": 300
        },
        "id": "GTbPrcXITfcb",
        "outputId": "1e562007-5611-41c5-efd7-e046cb47a5dc"
      },
      "outputs": [
        {
          "data": {
            "text/html": [
              "<div>\n",
              "<style scoped>\n",
              "    .dataframe tbody tr th:only-of-type {\n",
              "        vertical-align: middle;\n",
              "    }\n",
              "\n",
              "    .dataframe tbody tr th {\n",
              "        vertical-align: top;\n",
              "    }\n",
              "\n",
              "    .dataframe thead th {\n",
              "        text-align: right;\n",
              "    }\n",
              "</style>\n",
              "<table border=\"1\" class=\"dataframe\">\n",
              "  <thead>\n",
              "    <tr style=\"text-align: right;\">\n",
              "      <th></th>\n",
              "      <th>strength</th>\n",
              "      <th>length</th>\n",
              "      <th>entropy</th>\n",
              "      <th>crack_time_sec</th>\n",
              "    </tr>\n",
              "  </thead>\n",
              "  <tbody>\n",
              "    <tr>\n",
              "      <th>count</th>\n",
              "      <td>100000.000000</td>\n",
              "      <td>100000.000000</td>\n",
              "      <td>100000.000000</td>\n",
              "      <td>1.000000e+05</td>\n",
              "    </tr>\n",
              "    <tr>\n",
              "      <th>mean</th>\n",
              "      <td>0.495961</td>\n",
              "      <td>13.619160</td>\n",
              "      <td>53.805484</td>\n",
              "      <td>4.619530e+99</td>\n",
              "    </tr>\n",
              "    <tr>\n",
              "      <th>std</th>\n",
              "      <td>0.278578</td>\n",
              "      <td>7.103637</td>\n",
              "      <td>38.762932</td>\n",
              "      <td>7.218766e+101</td>\n",
              "    </tr>\n",
              "    <tr>\n",
              "      <th>min</th>\n",
              "      <td>0.000000</td>\n",
              "      <td>4.000000</td>\n",
              "      <td>8.000000</td>\n",
              "      <td>1.280000e-07</td>\n",
              "    </tr>\n",
              "    <tr>\n",
              "      <th>25%</th>\n",
              "      <td>0.249543</td>\n",
              "      <td>8.000000</td>\n",
              "      <td>24.000000</td>\n",
              "      <td>8.388608e-03</td>\n",
              "    </tr>\n",
              "    <tr>\n",
              "      <th>50%</th>\n",
              "      <td>0.507625</td>\n",
              "      <td>12.000000</td>\n",
              "      <td>43.019550</td>\n",
              "      <td>4.458050e+03</td>\n",
              "    </tr>\n",
              "    <tr>\n",
              "      <th>75%</th>\n",
              "      <td>0.726394</td>\n",
              "      <td>17.000000</td>\n",
              "      <td>69.486868</td>\n",
              "      <td>4.136201e+11</td>\n",
              "    </tr>\n",
              "    <tr>\n",
              "      <th>max</th>\n",
              "      <td>0.999480</td>\n",
              "      <td>63.000000</td>\n",
              "      <td>376.568635</td>\n",
              "      <td>1.141365e+104</td>\n",
              "    </tr>\n",
              "  </tbody>\n",
              "</table>\n",
              "</div>"
            ],
            "text/plain": [
              "            strength         length        entropy  crack_time_sec\n",
              "count  100000.000000  100000.000000  100000.000000    1.000000e+05\n",
              "mean        0.495961      13.619160      53.805484    4.619530e+99\n",
              "std         0.278578       7.103637      38.762932   7.218766e+101\n",
              "min         0.000000       4.000000       8.000000    1.280000e-07\n",
              "25%         0.249543       8.000000      24.000000    8.388608e-03\n",
              "50%         0.507625      12.000000      43.019550    4.458050e+03\n",
              "75%         0.726394      17.000000      69.486868    4.136201e+11\n",
              "max         0.999480      63.000000     376.568635   1.141365e+104"
            ]
          },
          "execution_count": 6,
          "metadata": {},
          "output_type": "execute_result"
        }
      ],
      "source": [
        "df.describe()"
      ]
    },
    {
      "cell_type": "markdown",
      "metadata": {
        "id": "I8ko55PmUzVv"
      },
      "source": [
        "## 3- Preprocessing:"
      ]
    },
    {
      "cell_type": "code",
      "execution_count": 7,
      "metadata": {
        "id": "th1V8SJRbBWD"
      },
      "outputs": [],
      "source": [
        "df = df.drop_duplicates()"
      ]
    },
    {
      "cell_type": "code",
      "execution_count": 8,
      "metadata": {
        "id": "DaKNhoiaa3PN"
      },
      "outputs": [],
      "source": [
        "df = df.drop_duplicates()\n",
        "df2 = df[['password', 'strength', 'length', 'entropy', 'crack_time_sec']].copy()\n",
        "df2.columns = ['password', 'strength', 'length', 'entropy', 'time']\n"
      ]
    },
    {
      "cell_type": "markdown",
      "metadata": {
        "id": "g-7EeYGqXpIq"
      },
      "source": [
        "### 3.1- Calculate our entropy:"
      ]
    },
    {
      "cell_type": "code",
      "execution_count": 9,
      "metadata": {
        "id": "u-as248kTfYN"
      },
      "outputs": [],
      "source": [
        "def calculate_entropy(password):\n",
        "  lw, up, dg, sp = 0, 0, 0, 0\n",
        "  for char in password:\n",
        "    if char.islower(): lw += 1\n",
        "    elif char.isupper(): up += 1\n",
        "    elif char.isdigit(): dg += 1\n",
        "    else: sp += 1\n",
        "  csz = 0\n",
        "  if lw > 0: csz += 26\n",
        "  elif up > 0: csz += 26\n",
        "  elif dg > 0: csz += 10\n",
        "  elif sp > 0: csz += 32\n",
        "\n",
        "  character_set_size = csz\n",
        "  password_length = len(password)\n",
        "  entropy = math.log2(character_set_size ** password_length)\n",
        "  return entropy\n"
      ]
    },
    {
      "cell_type": "code",
      "execution_count": 10,
      "metadata": {
        "id": "vp6NsXKeTfVt"
      },
      "outputs": [],
      "source": [
        "passwords = df2['password'].values\n",
        "new_entropy = []\n",
        "for password in passwords:\n",
        "  entropy = calculate_entropy(password)\n",
        "  new_entropy.append(entropy)\n"
      ]
    },
    {
      "cell_type": "code",
      "execution_count": 11,
      "metadata": {
        "colab": {
          "base_uri": "https://localhost:8080/",
          "height": 754
        },
        "id": "xdKBJYyQTfS2",
        "outputId": "bcf04c13-1252-4a91-a1e5-3f7c47a86e59"
      },
      "outputs": [
        {
          "name": "stderr",
          "output_type": "stream",
          "text": [
            "/tmp/ipykernel_60060/3417013649.py:3: FutureWarning: The default value of numeric_only in DataFrame.corr is deprecated. In a future version, it will default to False. Select only valid columns or specify the value of numeric_only to silence this warning.\n",
            "  spearman_corr = df2.corr(method='spearman')\n"
          ]
        },
        {
          "data": {
            "image/png": "[encoded data removed]",
            "text/plain": [
              "<Figure size 1000x800 with 2 Axes>"
            ]
          },
          "metadata": {},
          "output_type": "display_data"
        }
      ],
      "source": [
        "df2['new_entropy'] = new_entropy\n",
        "\n",
        "spearman_corr = df2.corr(method='spearman')\n",
        "\n",
        "plt.figure(figsize=(10, 8))\n",
        "sns.heatmap(spearman_corr, annot=True, cmap='coolwarm', fmt=\".2f\", linewidths=0.5)\n",
        "plt.title('Spearman Correlation Heatmap')\n",
        "plt.show()\n"
      ]
    },
    {
      "cell_type": "code",
      "execution_count": null,
      "metadata": {
        "id": "RUi9NY_CTfPt"
      },
      "outputs": [],
      "source": []
    },
    {
      "cell_type": "markdown",
      "metadata": {
        "id": "vcoLK22DYep5"
      },
      "source": [
        "### 3.2 Processing `crack_time_sec` column to become `time` and `exponent`"
      ]
    },
    {
      "cell_type": "code",
      "execution_count": 12,
      "metadata": {
        "id": "7kMbYfcWYWFa"
      },
      "outputs": [],
      "source": [
        "df2['new_entropy'] = new_entropy\n",
        "def transform_value(value):\n",
        "  exponent = int(round(np.log10(abs(value))))\n",
        "  normalized_value = value / 10**exponent\n",
        "  return normalized_value, exponent\n"
      ]
    },
    {
      "cell_type": "code",
      "execution_count": 13,
      "metadata": {
        "id": "qEU0Cj1iYWCs"
      },
      "outputs": [],
      "source": [
        "ut = df2['time'].value_counts().index\n",
        "power_list, time_list = [], []\n",
        "for i in ut:\n",
        "  nv, p = transform_value(i)\n",
        "  power_list.append(p)\n",
        "  time_list.append(nv)\n"
      ]
    },
    {
      "cell_type": "code",
      "execution_count": 14,
      "metadata": {
        "id": "otmkLzTCYV_2"
      },
      "outputs": [],
      "source": [
        "for i in range(len(ut)):\n",
        "  old_time = ut[i]\n",
        "  exponent = power_list[i]\n",
        "  n_time = time_list[i]\n",
        "  indices = df2[df2['time']==old_time].index\n",
        "  df2.loc[indices, 'new_time'] = n_time\n",
        "  df2.loc[indices, 'exponent'] = exponent\n"
      ]
    },
    {
      "cell_type": "code",
      "execution_count": 15,
      "metadata": {
        "colab": {
          "base_uri": "https://localhost:8080/",
          "height": 206
        },
        "id": "KqByuAlPYV6l",
        "outputId": "fe16cf99-6b94-4f52-c577-970c66b1c391"
      },
      "outputs": [
        {
          "data": {
            "text/html": [
              "<div>\n",
              "<style scoped>\n",
              "    .dataframe tbody tr th:only-of-type {\n",
              "        vertical-align: middle;\n",
              "    }\n",
              "\n",
              "    .dataframe tbody tr th {\n",
              "        vertical-align: top;\n",
              "    }\n",
              "\n",
              "    .dataframe thead th {\n",
              "        text-align: right;\n",
              "    }\n",
              "</style>\n",
              "<table border=\"1\" class=\"dataframe\">\n",
              "  <thead>\n",
              "    <tr style=\"text-align: right;\">\n",
              "      <th></th>\n",
              "      <th>password</th>\n",
              "      <th>strength</th>\n",
              "      <th>length</th>\n",
              "      <th>entropy</th>\n",
              "      <th>time</th>\n",
              "      <th>new_entropy</th>\n",
              "      <th>new_time</th>\n",
              "      <th>exponent</th>\n",
              "    </tr>\n",
              "  </thead>\n",
              "  <tbody>\n",
              "    <tr>\n",
              "      <th>0</th>\n",
              "      <td>bybee</td>\n",
              "      <td>0.088053</td>\n",
              "      <td>5</td>\n",
              "      <td>11.60964</td>\n",
              "      <td>1.562500e-06</td>\n",
              "      <td>23.502199</td>\n",
              "      <td>1.5625</td>\n",
              "      <td>-6.0</td>\n",
              "    </tr>\n",
              "    <tr>\n",
              "      <th>1</th>\n",
              "      <td>n3m0</td>\n",
              "      <td>0.088889</td>\n",
              "      <td>4</td>\n",
              "      <td>8.00000</td>\n",
              "      <td>1.280000e-07</td>\n",
              "      <td>18.801759</td>\n",
              "      <td>1.2800</td>\n",
              "      <td>-7.0</td>\n",
              "    </tr>\n",
              "    <tr>\n",
              "      <th>2</th>\n",
              "      <td>2509</td>\n",
              "      <td>0.088889</td>\n",
              "      <td>4</td>\n",
              "      <td>8.00000</td>\n",
              "      <td>1.280000e-07</td>\n",
              "      <td>13.287712</td>\n",
              "      <td>1.2800</td>\n",
              "      <td>-7.0</td>\n",
              "    </tr>\n",
              "    <tr>\n",
              "      <th>3</th>\n",
              "      <td>4622</td>\n",
              "      <td>0.070443</td>\n",
              "      <td>4</td>\n",
              "      <td>8.00000</td>\n",
              "      <td>1.280000e-07</td>\n",
              "      <td>13.287712</td>\n",
              "      <td>1.2800</td>\n",
              "      <td>-7.0</td>\n",
              "    </tr>\n",
              "    <tr>\n",
              "      <th>4</th>\n",
              "      <td>shrk</td>\n",
              "      <td>0.088889</td>\n",
              "      <td>4</td>\n",
              "      <td>8.00000</td>\n",
              "      <td>1.280000e-07</td>\n",
              "      <td>18.801759</td>\n",
              "      <td>1.2800</td>\n",
              "      <td>-7.0</td>\n",
              "    </tr>\n",
              "  </tbody>\n",
              "</table>\n",
              "</div>"
            ],
            "text/plain": [
              "  password  strength  length   entropy          time  new_entropy  new_time  \\\n",
              "0    bybee  0.088053       5  11.60964  1.562500e-06    23.502199    1.5625   \n",
              "1     n3m0  0.088889       4   8.00000  1.280000e-07    18.801759    1.2800   \n",
              "2     2509  0.088889       4   8.00000  1.280000e-07    13.287712    1.2800   \n",
              "3     4622  0.070443       4   8.00000  1.280000e-07    13.287712    1.2800   \n",
              "4     shrk  0.088889       4   8.00000  1.280000e-07    18.801759    1.2800   \n",
              "\n",
              "   exponent  \n",
              "0      -6.0  \n",
              "1      -7.0  \n",
              "2      -7.0  \n",
              "3      -7.0  \n",
              "4      -7.0  "
            ]
          },
          "execution_count": 15,
          "metadata": {},
          "output_type": "execute_result"
        }
      ],
      "source": [
        "df2.head()11"
      ]
    },
    {
      "cell_type": "code",
      "execution_count": 16,
      "metadata": {
        "colab": {
          "base_uri": "https://localhost:8080/",
          "height": 206
        },
        "id": "RgbgqxytcNXu",
        "outputId": "457a0d93-310f-4cf1-f52a-f6137f737f9b"
      },
      "outputs": [
        {
          "data": {
            "text/html": [
              "<div>\n",
              "<style scoped>\n",
              "    .dataframe tbody tr th:only-of-type {\n",
              "        vertical-align: middle;\n",
              "    }\n",
              "\n",
              "    .dataframe tbody tr th {\n",
              "        vertical-align: top;\n",
              "    }\n",
              "\n",
              "    .dataframe thead th {\n",
              "        text-align: right;\n",
              "    }\n",
              "</style>\n",
              "<table border=\"1\" class=\"dataframe\">\n",
              "  <thead>\n",
              "    <tr style=\"text-align: right;\">\n",
              "      <th></th>\n",
              "      <th>password</th>\n",
              "      <th>strength</th>\n",
              "      <th>length</th>\n",
              "      <th>entropy</th>\n",
              "      <th>time</th>\n",
              "      <th>exponent</th>\n",
              "    </tr>\n",
              "  </thead>\n",
              "  <tbody>\n",
              "    <tr>\n",
              "      <th>0</th>\n",
              "      <td>bybee</td>\n",
              "      <td>0.088053</td>\n",
              "      <td>5</td>\n",
              "      <td>23.502199</td>\n",
              "      <td>1.5625</td>\n",
              "      <td>-6.0</td>\n",
              "    </tr>\n",
              "    <tr>\n",
              "      <th>1</th>\n",
              "      <td>n3m0</td>\n",
              "      <td>0.088889</td>\n",
              "      <td>4</td>\n",
              "      <td>18.801759</td>\n",
              "      <td>1.2800</td>\n",
              "      <td>-7.0</td>\n",
              "    </tr>\n",
              "    <tr>\n",
              "      <th>2</th>\n",
              "      <td>2509</td>\n",
              "      <td>0.088889</td>\n",
              "      <td>4</td>\n",
              "      <td>13.287712</td>\n",
              "      <td>1.2800</td>\n",
              "      <td>-7.0</td>\n",
              "    </tr>\n",
              "    <tr>\n",
              "      <th>3</th>\n",
              "      <td>4622</td>\n",
              "      <td>0.070443</td>\n",
              "      <td>4</td>\n",
              "      <td>13.287712</td>\n",
              "      <td>1.2800</td>\n",
              "      <td>-7.0</td>\n",
              "    </tr>\n",
              "    <tr>\n",
              "      <th>4</th>\n",
              "      <td>shrk</td>\n",
              "      <td>0.088889</td>\n",
              "      <td>4</td>\n",
              "      <td>18.801759</td>\n",
              "      <td>1.2800</td>\n",
              "      <td>-7.0</td>\n",
              "    </tr>\n",
              "  </tbody>\n",
              "</table>\n",
              "</div>"
            ],
            "text/plain": [
              "  password  strength  length    entropy    time  exponent\n",
              "0    bybee  0.088053       5  23.502199  1.5625      -6.0\n",
              "1     n3m0  0.088889       4  18.801759  1.2800      -7.0\n",
              "2     2509  0.088889       4  13.287712  1.2800      -7.0\n",
              "3     4622  0.070443       4  13.287712  1.2800      -7.0\n",
              "4     shrk  0.088889       4  18.801759  1.2800      -7.0"
            ]
          },
          "execution_count": 16,
          "metadata": {},
          "output_type": "execute_result"
        }
      ],
      "source": [
        "df2.drop(columns=['entropy', 'time'], inplace=True)\n",
        "df2.columns = ['password', 'strength', 'length', 'entropy', 'time', 'exponent']\n",
        "df2.head()11\n"
      ]
    },
    {
      "cell_type": "code",
      "execution_count": 17,
      "metadata": {
        "colab": {
          "base_uri": "https://localhost:8080/",
          "height": 300
        },
        "id": "3dDH8yIEcNVN",
        "outputId": "498fd098-6cde-4028-eaf0-cbad3eccb92c"
      },
      "outputs": [
        {
          "data": {
            "text/html": [
              "<div>\n",
              "<style scoped>\n",
              "    .dataframe tbody tr th:only-of-type {\n",
              "        vertical-align: middle;\n",
              "    }\n",
              "\n",
              "    .dataframe tbody tr th {\n",
              "        vertical-align: top;\n",
              "    }\n",
              "\n",
              "    .dataframe thead th {\n",
              "        text-align: right;\n",
              "    }\n",
              "</style>\n",
              "<table border=\"1\" class=\"dataframe\">\n",
              "  <thead>\n",
              "    <tr style=\"text-align: right;\">\n",
              "      <th></th>\n",
              "      <th>strength</th>\n",
              "      <th>length</th>\n",
              "      <th>entropy</th>\n",
              "      <th>time</th>\n",
              "      <th>exponent</th>\n",
              "    </tr>\n",
              "  </thead>\n",
              "  <tbody>\n",
              "    <tr>\n",
              "      <th>count</th>\n",
              "      <td>25000.000000</td>\n",
              "      <td>25000.000000</td>\n",
              "      <td>25000.000000</td>\n",
              "      <td>25000.000000</td>\n",
              "      <td>25000.000000</td>\n",
              "    </tr>\n",
              "    <tr>\n",
              "      <th>mean</th>\n",
              "      <td>0.495961</td>\n",
              "      <td>13.619160</td>\n",
              "      <td>62.651403</td>\n",
              "      <td>1.247337</td>\n",
              "      <td>6.881640</td>\n",
              "    </tr>\n",
              "    <tr>\n",
              "      <th>std</th>\n",
              "      <td>0.278582</td>\n",
              "      <td>7.103744</td>\n",
              "      <td>33.863559</td>\n",
              "      <td>0.730870</td>\n",
              "      <td>11.673387</td>\n",
              "    </tr>\n",
              "    <tr>\n",
              "      <th>min</th>\n",
              "      <td>0.000000</td>\n",
              "      <td>4.000000</td>\n",
              "      <td>13.287712</td>\n",
              "      <td>0.330049</td>\n",
              "      <td>-7.000000</td>\n",
              "    </tr>\n",
              "    <tr>\n",
              "      <th>25%</th>\n",
              "      <td>0.249543</td>\n",
              "      <td>8.000000</td>\n",
              "      <td>37.603518</td>\n",
              "      <td>0.524288</td>\n",
              "      <td>-2.000000</td>\n",
              "    </tr>\n",
              "    <tr>\n",
              "      <th>50%</th>\n",
              "      <td>0.507625</td>\n",
              "      <td>12.000000</td>\n",
              "      <td>56.405277</td>\n",
              "      <td>1.029456</td>\n",
              "      <td>4.000000</td>\n",
              "    </tr>\n",
              "    <tr>\n",
              "      <th>75%</th>\n",
              "      <td>0.726394</td>\n",
              "      <td>17.000000</td>\n",
              "      <td>79.907475</td>\n",
              "      <td>1.937102</td>\n",
              "      <td>12.000000</td>\n",
              "    </tr>\n",
              "    <tr>\n",
              "      <th>max</th>\n",
              "      <td>0.999480</td>\n",
              "      <td>63.000000</td>\n",
              "      <td>296.127702</td>\n",
              "      <td>3.078060</td>\n",
              "      <td>104.000000</td>\n",
              "    </tr>\n",
              "  </tbody>\n",
              "</table>\n",
              "</div>"
            ],
            "text/plain": [
              "           strength        length       entropy          time      exponent\n",
              "count  25000.000000  25000.000000  25000.000000  25000.000000  25000.000000\n",
              "mean       0.495961     13.619160     62.651403      1.247337      6.881640\n",
              "std        0.278582      7.103744     33.863559      0.730870     11.673387\n",
              "min        0.000000      4.000000     13.287712      0.330049     -7.000000\n",
              "25%        0.249543      8.000000     37.603518      0.524288     -2.000000\n",
              "50%        0.507625     12.000000     56.405277      1.029456      4.000000\n",
              "75%        0.726394     17.000000     79.907475      1.937102     12.000000\n",
              "max        0.999480     63.000000    296.127702      3.078060    104.000000"
            ]
          },
          "execution_count": 17,
          "metadata": {},
          "output_type": "execute_result"
        }
      ],
      "source": [
        "df2.describe()"
      ]
    },
    {
      "cell_type": "markdown",
      "metadata": {
        "id": "5jp03UfHeYpU"
      },
      "source": [
        "## 4- Prediction:"
      ]
    },
    {
      "cell_type": "markdown",
      "metadata": {
        "id": "uSDPEM3jfLYl"
      },
      "source": [
        "### 4.1- `strength` Prediction:\n",
        "using RandomForestRegression"
      ]
    },
    {
      "cell_type": "code",
      "execution_count": 18,
      "metadata": {
        "colab": {
          "base_uri": "https://localhost:8080/"
        },
        "id": "BWB-N8pDcNSh",
        "outputId": "a31e4b2d-af59-4578-bd80-8514c7f64766"
      },
      "outputs": [
        {
          "name": "stdout",
          "output_type": "stream",
          "text": [
            "MSE:\t0.0015916514295602048\n",
            "R2:\t0.9792158946942322\n"
          ]
        }
      ],
      "source": [
        "# password \tstrength \tlength \tentropy \ttime \texponent\n",
        "X = df2[['length', 'entropy']]\n",
        "y = df2['strength']\n",
        "X_train, X_test, y_train, y_test = train_test_split(X, y, test_size=0.2, random_state=42)\n",
        "\n",
        "strength_model = RandomForestRegressor(n_estimators=250,random_state=42)\n",
        "strength_model.fit(X_train, y_train)\n",
        "y_pred = strength_model.predict(X_test)\n",
        "mse = mean_squared_error(y_test, y_pred)\n",
        "res = r2_score(y_pred, y_test)\n",
        "print(f'MSE:\\t{mse}')\n",
        "print(f'R2:\\t{res}')\n",
        "\n",
        "# Results:\n",
        "# MSE:\t0.0015916514295602048\n",
        "# R2:\t0.9792158946942322\n"
      ]
    },
    {
      "cell_type": "markdown",
      "metadata": {
        "id": "rKkX-CXaiwJ2"
      },
      "source": [
        "### 4.2 `exponent` Prediction:"
      ]
    },
    {
      "cell_type": "code",
      "execution_count": 19,
      "metadata": {
        "colab": {
          "base_uri": "https://localhost:8080/"
        },
        "id": "6PHIqdJTcNO2",
        "outputId": "d6f36f4c-ee87-466a-df12-b22ec5aada11"
      },
      "outputs": [
        {
          "name": "stdout",
          "output_type": "stream",
          "text": [
            "MSE:\t0.003920219999999993\n",
            "R2:\t0.9999704886965889\n"
          ]
        }
      ],
      "source": [
        "# password \tstrength \tlength \tentropy \ttime \texponent\n",
        "X = df2[['length', 'entropy', 'strength']]\n",
        "y = df2['exponent']\n",
        "\n",
        "X_train, X_test, y_train, y_test = train_test_split(X, y, test_size=0.2 ,random_state=42)\n",
        "\n",
        "exp_model = RandomForestRegressor(n_estimators=100, random_state=42)\n",
        "exp_model.fit(X_train, y_train)\n",
        "y_pred = exp_model.predict(X_test)\n",
        "mse = mean_squared_error(y_test, y_pred)\n",
        "res = r2_score(y_pred, y_test)\n",
        "print(f'MSE:\\t{mse}')\n",
        "print(f'R2:\\t{res}')\n",
        "\n",
        "# Result:\n",
        "# MSE:\t0.003395219999999995\n",
        "# R2:\t0.9999744464096049\n"
      ]
    },
    {
      "cell_type": "markdown",
      "metadata": {
        "id": "eVVge5wqi4qe"
      },
      "source": [
        "### 4.3 `time` Prediction:"
      ]
    },
    {
      "cell_type": "code",
      "execution_count": 20,
      "metadata": {
        "colab": {
          "base_uri": "https://localhost:8080/"
        },
        "id": "Qwe50avwefw_",
        "outputId": "9b632332-2792-405b-c8d6-016098908461"
      },
      "outputs": [
        {
          "name": "stdout",
          "output_type": "stream",
          "text": [
            "MSE:\t0.0007308766884319349\n",
            "R2:\t0.9986499269569981\n"
          ]
        }
      ],
      "source": [
        "# password \tstrength \tlength \tentropy \ttime\texponent\n",
        "X = df2[['length', 'entropy', 'strength', 'exponent']]\n",
        "y = df2['time']\n",
        "X_train, X_test, y_train, y_test = train_test_split(X, y, test_size=0.2 ,random_state=42)\n",
        "\n",
        "time_model = RandomForestRegressor(n_estimators=100, random_state=42)\n",
        "time_model.fit(X_train, y_train)\n",
        "y_pred = time_model.predict(X_test)\n",
        "mse = mean_squared_error(y_test, y_pred)\n",
        "res = r2_score(y_pred, y_test)\n",
        "print(f'MSE:\\t{mse}')\n",
        "print(f'R2:\\t{res}')\n",
        "\n",
        "# Result:\n",
        "# MSE:\t0.0007410281319479788\n",
        "# R2:\t0.998631121150848\n"
      ]
    },
    {
      "cell_type": "markdown",
      "metadata": {},
      "source": [
        "### 4.4 Save Models:"
      ]
    },
    {
      "cell_type": "code",
      "execution_count": null,
      "metadata": {},
      "outputs": [],
      "source": [
        "joblib.dump(strength_model, '../models/strength_model.pkl')\n",
        "joblib.dump(exp_model, '../models/exponent_model.pkl')\n",
        "joblib.dump(time_model, '../models/time_model.pkl')\n"
      ]
    },
    {
      "cell_type": "markdown",
      "metadata": {
        "id": "j01xSHgEk281"
      },
      "source": [
        "## 5- Applying Prediction:"
      ]
    },
    {
      "cell_type": "markdown",
      "metadata": {
        "id": "-eJ6b4edsteF"
      },
      "source": [
        "### 5.1 Read new Password-List"
      ]
    },
    {
      "cell_type": "code",
      "execution_count": 64,
      "metadata": {
        "colab": {
          "base_uri": "https://localhost:8080/"
        },
        "id": "nQi38t1Lefpg",
        "outputId": "114d8188-899d-44d2-b315-1fc28dbcaf5d"
      },
      "outputs": [
        {
          "name": "stdout",
          "output_type": "stream",
          "text": [
            "Count: 800\n",
            "C: 9801\n"
          ]
        }
      ],
      "source": [
        "pswd = []\n",
        "c = 0\n",
        "with open(f'{path}/input.txt', 'rb') as f:\n",
        "  for line in f:\n",
        "    c += 1\n",
        "    try:\n",
        "      decoded_line = line.decode('utf-8')\n",
        "    except UnicodeDecodeError:\n",
        "      decoded_line = line.decode('latin-1')\n",
        "    finally:\n",
        "      decoded_line = decoded_line.strip()\n",
        "      pswd.append(decoded_line)\n",
        "      if c >= 1000:\n",
        "        break\n",
        "df3 = pd.DataFrame(pswd, columns=['password'])"
      ]
    },
    {
      "cell_type": "code",
      "execution_count": 67,
      "metadata": {
        "colab": {
          "base_uri": "https://localhost:8080/",
          "height": 206
        },
        "id": "S7pEJISFefmf",
        "outputId": "c81d49cb-5001-4f21-e080-0d139f3d441f"
      },
      "outputs": [
        {
          "data": {
            "text/html": [
              "<div>\n",
              "<style scoped>\n",
              "    .dataframe tbody tr th:only-of-type {\n",
              "        vertical-align: middle;\n",
              "    }\n",
              "\n",
              "    .dataframe tbody tr th {\n",
              "        vertical-align: top;\n",
              "    }\n",
              "\n",
              "    .dataframe thead th {\n",
              "        text-align: right;\n",
              "    }\n",
              "</style>\n",
              "<table border=\"1\" class=\"dataframe\">\n",
              "  <thead>\n",
              "    <tr style=\"text-align: right;\">\n",
              "      <th></th>\n",
              "      <th>password</th>\n",
              "    </tr>\n",
              "  </thead>\n",
              "  <tbody>\n",
              "    <tr>\n",
              "      <th>0</th>\n",
              "      <td>sa1ah421yaf</td>\n",
              "    </tr>\n",
              "    <tr>\n",
              "      <th>1</th>\n",
              "      <td>ADRIANA</td>\n",
              "    </tr>\n",
              "    <tr>\n",
              "      <th>2</th>\n",
              "      <td>101087</td>\n",
              "    </tr>\n",
              "    <tr>\n",
              "      <th>3</th>\n",
              "      <td>trish</td>\n",
              "    </tr>\n",
              "    <tr>\n",
              "      <th>4</th>\n",
              "      <td>tabby</td>\n",
              "    </tr>\n",
              "  </tbody>\n",
              "</table>\n",
              "</div>"
            ],
            "text/plain": [
              "      password\n",
              "0  sa1ah421yaf\n",
              "1      ADRIANA\n",
              "2       101087\n",
              "3        trish\n",
              "4        tabby"
            ]
          },
          "execution_count": 67,
          "metadata": {},
          "output_type": "execute_result"
        }
      ],
      "source": [
        "df3.loc[0, 'password'] = 'sa1ah421yaf'\n",
        "df3.head()\n"
      ]
    },
    {
      "cell_type": "markdown",
      "metadata": {
        "id": "t3Y3xOWisUgV"
      },
      "source": [
        "### 5.2 Functions:"
      ]
    },
    {
      "cell_type": "code",
      "execution_count": 68,
      "metadata": {
        "id": "ECe3r5kBtWZB"
      },
      "outputs": [],
      "source": [
        "dftmp = df3.copy()\n",
        "\n",
        "entropy_list, length_list = [], []\n",
        "for password in dftmp['password'].values:\n",
        "  length_list.append(len(password))\n",
        "  entropy = calculate_entropy(password)\n",
        "  entropy_list.append(entropy)\n",
        "dftmp['length'] = length_list\n",
        "dftmp['entropy'] = entropy_list\n",
        "\n",
        "strength = strength_model.predict(dftmp.drop(columns=['password']))\n",
        "dftmp['strength'] = strength\n",
        "\n",
        "exponent = exp_model.predict(dftmp.drop(columns=['password']))\n",
        "dftmp['exponent'] = exponent\n",
        "\n",
        "time_val = time_model.predict(dftmp.drop(columns=['password']))\n",
        "dftmp['time'] = time_val\n",
        "\n",
        "time_sec = []\n",
        "for i in dftmp.index:\n",
        "  ex = dftmp.loc[i, 'exponent']\n",
        "  ti = dftmp.loc[i, 'time']\n",
        "  time_sec.append(ti * 10**ex)\n",
        "dftmp['time_sec'] = time_sec\n"
      ]
    },
    {
      "cell_type": "code",
      "execution_count": 69,
      "metadata": {},
      "outputs": [
        {
          "data": {
            "text/html": [
              "<div>\n",
              "<style scoped>\n",
              "    .dataframe tbody tr th:only-of-type {\n",
              "        vertical-align: middle;\n",
              "    }\n",
              "\n",
              "    .dataframe tbody tr th {\n",
              "        vertical-align: top;\n",
              "    }\n",
              "\n",
              "    .dataframe thead th {\n",
              "        text-align: right;\n",
              "    }\n",
              "</style>\n",
              "<table border=\"1\" class=\"dataframe\">\n",
              "  <thead>\n",
              "    <tr style=\"text-align: right;\">\n",
              "      <th></th>\n",
              "      <th>password</th>\n",
              "      <th>length</th>\n",
              "      <th>entropy</th>\n",
              "      <th>strength</th>\n",
              "      <th>exponent</th>\n",
              "      <th>time</th>\n",
              "      <th>time_sec</th>\n",
              "    </tr>\n",
              "  </thead>\n",
              "  <tbody>\n",
              "    <tr>\n",
              "      <th>0</th>\n",
              "      <td>sa1ah421yaf</td>\n",
              "      <td>11</td>\n",
              "      <td>51.704837</td>\n",
              "      <td>0.423641</td>\n",
              "      <td>2.0</td>\n",
              "      <td>1.426558</td>\n",
              "      <td>142.655835</td>\n",
              "    </tr>\n",
              "    <tr>\n",
              "      <th>1</th>\n",
              "      <td>ADRIANA</td>\n",
              "      <td>7</td>\n",
              "      <td>32.903078</td>\n",
              "      <td>0.188037</td>\n",
              "      <td>-3.0</td>\n",
              "      <td>0.411771</td>\n",
              "      <td>0.000412</td>\n",
              "    </tr>\n",
              "    <tr>\n",
              "      <th>2</th>\n",
              "      <td>101087</td>\n",
              "      <td>6</td>\n",
              "      <td>19.931569</td>\n",
              "      <td>0.122991</td>\n",
              "      <td>-5.0</td>\n",
              "      <td>2.332800</td>\n",
              "      <td>0.000023</td>\n",
              "    </tr>\n",
              "    <tr>\n",
              "      <th>3</th>\n",
              "      <td>trish</td>\n",
              "      <td>5</td>\n",
              "      <td>23.502199</td>\n",
              "      <td>0.091264</td>\n",
              "      <td>-6.0</td>\n",
              "      <td>1.562500</td>\n",
              "      <td>0.000002</td>\n",
              "    </tr>\n",
              "    <tr>\n",
              "      <th>4</th>\n",
              "      <td>tabby</td>\n",
              "      <td>5</td>\n",
              "      <td>23.502199</td>\n",
              "      <td>0.091264</td>\n",
              "      <td>-6.0</td>\n",
              "      <td>1.562500</td>\n",
              "      <td>0.000002</td>\n",
              "    </tr>\n",
              "  </tbody>\n",
              "</table>\n",
              "</div>"
            ],
            "text/plain": [
              "      password  length    entropy  strength  exponent      time    time_sec\n",
              "0  sa1ah421yaf      11  51.704837  0.423641       2.0  1.426558  142.655835\n",
              "1      ADRIANA       7  32.903078  0.188037      -3.0  0.411771    0.000412\n",
              "2       101087       6  19.931569  0.122991      -5.0  2.332800    0.000023\n",
              "3        trish       5  23.502199  0.091264      -6.0  1.562500    0.000002\n",
              "4        tabby       5  23.502199  0.091264      -6.0  1.562500    0.000002"
            ]
          },
          "execution_count": 69,
          "metadata": {},
          "output_type": "execute_result"
        }
      ],
      "source": [
        "dftmp.head()\n"
      ]
    },
    {
      "cell_type": "code",
      "execution_count": 46,
      "metadata": {},
      "outputs": [
        {
          "data": {
            "text/plain": [
              "-5.0     2657\n",
              "-3.0     1877\n",
              "-2.0     1533\n",
              "-1.0      748\n",
              "-6.0      538\n",
              " 1.0      427\n",
              " 2.0      116\n",
              " 4.0       39\n",
              "-7.0       31\n",
              " 5.0       17\n",
              " 7.0        9\n",
              " 8.0        5\n",
              " 12.0       1\n",
              " 10.0       1\n",
              " 13.0       1\n",
              "Name: exponent, dtype: int64"
            ]
          },
          "execution_count": 46,
          "metadata": {},
          "output_type": "execute_result"
        }
      ],
      "source": [
        "dftmp['exponent'].value_counts()\n"
      ]
    },
    {
      "cell_type": "code",
      "execution_count": 98,
      "metadata": {},
      "outputs": [],
      "source": [
        "def convert_seconds_to_time(seconds):\n",
        "    minutes, seconds = divmod(seconds, 60)\n",
        "    hours, minutes = divmod(minutes, 60)\n",
        "    days, hours = divmod(hours, 24)\n",
        "    months, days = divmod(days, 30)\n",
        "    years, months = divmod(months, 12)\n",
        "    centuries, years = divmod(years, 100)\n",
        "    return int(centuries), int(years), int(months), int(days), int(hours), int(minutes), seconds\n",
        "\n",
        "def result_of_time_processing(seconds):\n",
        "    label = {\n",
        "        0:{ # 'century'\n",
        "            'singl':'Century',\n",
        "            'plural': 'Centuries'\n",
        "        },\n",
        "        1:{ # 'year'\n",
        "            'singl': 'Year',\n",
        "            'plural': 'Years'\n",
        "        },\n",
        "        2:{ # 'month'\n",
        "            'singl': 'Month',\n",
        "            'plural': 'Months'\n",
        "        },\n",
        "        3:{ # 'day'\n",
        "            'singl': 'Day',\n",
        "            'plural': 'Days'\n",
        "        },\n",
        "        4:{ # 'hour'\n",
        "            'singl': 'Hour',\n",
        "            'plural': 'Hours'\n",
        "        },\n",
        "        5:{ # 'minut'\n",
        "            'singl': 'Minut',\n",
        "            'plural': 'Minuts'\n",
        "        },\n",
        "        6:{ # 'second'\n",
        "            'singl': 'Second',\n",
        "            'plural': 'Seconds'\n",
        "        }\n",
        "    }\n",
        "    \n",
        "    res = list(convert_seconds_to_time(seconds))\n",
        "    txt = []\n",
        "    for i in range(len(res)):\n",
        "        val = res[i]\n",
        "        if val > 0:\n",
        "            if val > 1:\n",
        "                t = f\"'{val}' {label[i]['plural']}\"\n",
        "            else:\n",
        "                t = f\"'{val}' {label[i]['singl']}\"\n",
        "            txt.append(t)\n",
        "    if len(txt) > 1:\n",
        "        result = \", \".join(txt[:-1])\n",
        "        result += f\", And {txt[-1]}\"\n",
        "    else:\n",
        "        result = \", \".join(txt)\n",
        "    return result\n"
      ]
    },
    {
      "cell_type": "code",
      "execution_count": 104,
      "metadata": {},
      "outputs": [
        {
          "data": {
            "text/plain": [
              "\"'6324' Centuries, '97' Years, '6' Months, '20' Days, '19' Hours, '20' Minuts, And '48.31640625' Seconds\""
            ]
          },
          "execution_count": 104,
          "metadata": {},
          "output_type": "execute_result"
        }
      ],
      "source": [
        "result_of_time_processing(max(dftmp['time_sec'].values))"
      ]
    }
  ],
  "metadata": {
    "colab": {
      "provenance": []
    },
    "kernelspec": {
      "display_name": "Python 3",
      "name": "python3"
    },
    "language_info": {
      "codemirror_mode": {
        "name": "ipython",
        "version": 3
      },
      "file_extension": ".py",
      "mimetype": "text/x-python",
      "name": "python",
      "nbconvert_exporter": "python",
      "pygments_lexer": "ipython3",
      "version": "3.11.7"
    }
  },
  "nbformat": 4,
  "nbformat_minor": 0
}
